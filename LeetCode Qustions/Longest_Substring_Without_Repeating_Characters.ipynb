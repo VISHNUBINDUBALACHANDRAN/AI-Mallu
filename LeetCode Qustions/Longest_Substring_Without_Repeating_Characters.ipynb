{
  "nbformat": 4,
  "nbformat_minor": 0,
  "metadata": {
    "colab": {
      "name": "Longest Substring Without Repeating Characters.ipynb",
      "provenance": []
    },
    "kernelspec": {
      "name": "python3",
      "display_name": "Python 3"
    },
    "language_info": {
      "name": "python"
    }
  },
  "cells": [
    {
      "cell_type": "code",
      "source": [
        "s = \"pwwkew\"\n",
        "theset = set()\n",
        "i = 0\n",
        "count = 0\n",
        "for r in range(len(s)):\n",
        "\n",
        "  print(\"Iteration No.:\",r+1)\n",
        "\n",
        "  while s[r] in theset:\n",
        "\n",
        "    theset.remove(s[i])\n",
        "    i += 1 \n",
        "\n",
        "    print(\"i:\",i)\n",
        "\n",
        "  theset.add(s[r])\n",
        "  count = max(count, r - i + 1)\n",
        "\n",
        "  print(\"The set is:\", theset)\n",
        "  print(\"count is:\", count) #s = \"pwwkew\""
      ],
      "metadata": {
        "colab": {
          "base_uri": "https://localhost:8080/"
        },
        "id": "W_pub2YeIZdf",
        "outputId": "4c96a908-5f5c-4c74-cd88-73ef8ef01483"
      },
      "execution_count": 27,
      "outputs": [
        {
          "output_type": "stream",
          "name": "stdout",
          "text": [
            "Iteration No.: 1\n",
            "The set is: {'p'}\n",
            "count is: 1\n",
            "Iteration No.: 2\n",
            "The set is: {'p', 'w'}\n",
            "count is: 2\n",
            "Iteration No.: 3\n",
            "i: 1\n",
            "i: 2\n",
            "The set is: {'w'}\n",
            "count is: 2\n",
            "Iteration No.: 4\n",
            "The set is: {'k', 'w'}\n",
            "count is: 2\n",
            "Iteration No.: 5\n",
            "The set is: {'e', 'k', 'w'}\n",
            "count is: 3\n",
            "Iteration No.: 6\n",
            "i: 3\n",
            "The set is: {'e', 'k', 'w'}\n",
            "count is: 3\n"
          ]
        }
      ]
    },
    {
      "cell_type": "code",
      "source": [
        ""
      ],
      "metadata": {
        "id": "4lJ4-G1yIj22"
      },
      "execution_count": null,
      "outputs": []
    },
    {
      "cell_type": "code",
      "source": [
        ""
      ],
      "metadata": {
        "id": "oEhZ02t1Ijyu"
      },
      "execution_count": null,
      "outputs": []
    },
    {
      "cell_type": "code",
      "source": [
        ""
      ],
      "metadata": {
        "id": "dF8j8h3aIjvI"
      },
      "execution_count": null,
      "outputs": []
    },
    {
      "cell_type": "code",
      "source": [
        ""
      ],
      "metadata": {
        "id": "y7u4tW69IjJp"
      },
      "execution_count": null,
      "outputs": []
    }
  ]
}