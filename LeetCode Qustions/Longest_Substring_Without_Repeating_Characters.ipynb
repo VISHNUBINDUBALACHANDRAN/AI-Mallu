{
  "nbformat": 4,
  "nbformat_minor": 0,
  "metadata": {
    "colab": {
      "name": "Longest Substring Without Repeating Characters.ipynb",
      "provenance": []
    },
    "kernelspec": {
      "name": "python3",
      "display_name": "Python 3"
    },
    "language_info": {
      "name": "python"
    }
  },
  "cells": [
    {
      "cell_type": "code",
      "source": [
        "s = \"pwwkew\"\n",
        "charSet = set()\n",
        "l = 0\n",
        "res = 0\n",
        "for r in range(len(s)):\n",
        "\n",
        "  print(\"*\",r+1,\"*\")\n",
        "\n",
        "  while s[r] in charSet:\n",
        "\n",
        "    print('char is:',charSet)\n",
        "\n",
        "    charSet.remove(s[l])\n",
        "    l += 1 \n",
        "\n",
        "    print(\"l:\",l)\n",
        "\n",
        "  charSet.add(s[r])\n",
        "  res = max(res, r - l + 1)\n",
        "  \n",
        "  print(\"2:\", charSet)\n",
        "  print(\"x1:\", res) #s = \"pwwkew\""
      ],
      "metadata": {
        "colab": {
          "base_uri": "https://localhost:8080/"
        },
        "id": "W_pub2YeIZdf",
        "outputId": "25416400-4ae7-4b67-86e2-59524f5ab22d"
      },
      "execution_count": 15,
      "outputs": [
        {
          "output_type": "stream",
          "name": "stdout",
          "text": [
            "* 1 *\n",
            "2: {'p'}\n",
            "x1: 1\n",
            "* 2 *\n",
            "2: {'p', 'w'}\n",
            "x1: 2\n",
            "* 3 *\n",
            "char is: {'p', 'w'}\n",
            "l: 1\n",
            "char is: {'w'}\n",
            "l: 2\n",
            "2: {'w'}\n",
            "x1: 2\n",
            "* 4 *\n",
            "2: {'k', 'w'}\n",
            "x1: 2\n",
            "* 5 *\n",
            "2: {'e', 'k', 'w'}\n",
            "x1: 3\n",
            "* 6 *\n",
            "char is: {'e', 'k', 'w'}\n",
            "l: 3\n",
            "2: {'e', 'k', 'w'}\n",
            "x1: 3\n"
          ]
        }
      ]
    },
    {
      "cell_type": "code",
      "source": [
        ""
      ],
      "metadata": {
        "id": "4lJ4-G1yIj22"
      },
      "execution_count": null,
      "outputs": []
    },
    {
      "cell_type": "code",
      "source": [
        ""
      ],
      "metadata": {
        "id": "oEhZ02t1Ijyu"
      },
      "execution_count": null,
      "outputs": []
    },
    {
      "cell_type": "code",
      "source": [
        ""
      ],
      "metadata": {
        "id": "dF8j8h3aIjvI"
      },
      "execution_count": null,
      "outputs": []
    },
    {
      "cell_type": "code",
      "source": [
        ""
      ],
      "metadata": {
        "id": "y7u4tW69IjJp"
      },
      "execution_count": null,
      "outputs": []
    }
  ]
}